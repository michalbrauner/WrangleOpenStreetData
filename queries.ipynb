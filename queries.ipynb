{
 "cells": [
  {
   "cell_type": "markdown",
   "metadata": {},
   "source": [
    "# Analyzing OpenStreetMap data\n",
    "\n",
    "In this document I would like to show you a MongoDB queries I used to analyze OpenStreetMap data."
   ]
  },
  {
   "cell_type": "markdown",
   "metadata": {},
   "source": [
    "## Import pymogno and acessing database"
   ]
  },
  {
   "cell_type": "code",
   "execution_count": 8,
   "metadata": {},
   "outputs": [],
   "source": [
    "import pymongo, pprint\n",
    "\n",
    "client = pymongo.MongoClient('mongodb://localhost:27017/')\n",
    "\n",
    "db = client.openstreetmap"
   ]
  },
  {
   "cell_type": "markdown",
   "metadata": {},
   "source": [
    "## Data overview"
   ]
  },
  {
   "cell_type": "code",
   "execution_count": 18,
   "metadata": {},
   "outputs": [
    {
     "name": "stdout",
     "output_type": "stream",
     "text": [
      "Total elements in database: 52406\n"
     ]
    }
   ],
   "source": [
    "print('Total elements in database: {}'.format(db.elements.count()))"
   ]
  },
  {
   "cell_type": "code",
   "execution_count": 41,
   "metadata": {
    "collapsed": true
   },
   "outputs": [],
   "source": [
    "def number_of_elements(node_type):\n",
    "    count_of_type = db.elements.aggregate([\n",
    "        {'$match': {'type': node_type}},\n",
    "        {'$group': {'_id': None, 'count': {'$sum': 1}}}\n",
    "    ])\n",
    "    \n",
    "    return list(count_of_type)[0]['count']"
   ]
  },
  {
   "cell_type": "code",
   "execution_count": 43,
   "metadata": {},
   "outputs": [
    {
     "name": "stdout",
     "output_type": "stream",
     "text": [
      "Total nodes: 46957\n"
     ]
    }
   ],
   "source": [
    "print('Total nodes: {}'.format(number_of_elements('node')))"
   ]
  },
  {
   "cell_type": "code",
   "execution_count": 44,
   "metadata": {},
   "outputs": [
    {
     "name": "stdout",
     "output_type": "stream",
     "text": [
      "Total ways: 5362\n"
     ]
    }
   ],
   "source": [
    "print('Total ways: {}'.format(number_of_elements('way')))"
   ]
  },
  {
   "cell_type": "code",
   "execution_count": 45,
   "metadata": {},
   "outputs": [
    {
     "name": "stdout",
     "output_type": "stream",
     "text": [
      "Total relations: 87\n"
     ]
    }
   ],
   "source": [
    "print('Total relations: {}'.format(number_of_elements('relation')))"
   ]
  }
 ],
 "metadata": {
  "kernelspec": {
   "display_name": "Python 3",
   "language": "python",
   "name": "python3"
  },
  "language_info": {
   "codemirror_mode": {
    "name": "ipython",
    "version": 3
   },
   "file_extension": ".py",
   "mimetype": "text/x-python",
   "name": "python",
   "nbconvert_exporter": "python",
   "pygments_lexer": "ipython3",
   "version": "3.6.0"
  }
 },
 "nbformat": 4,
 "nbformat_minor": 2
}
