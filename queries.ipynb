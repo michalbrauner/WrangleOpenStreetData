{
 "cells": [
  {
   "cell_type": "markdown",
   "metadata": {},
   "source": [
    "# Analyzing OpenStreetMap data\n",
    "\n",
    "In this document I would like to show you a MongoDB queries I used to analyze OpenStreetMap data."
   ]
  },
  {
   "cell_type": "markdown",
   "metadata": {},
   "source": [
    "## Import pymogno and acessing database"
   ]
  },
  {
   "cell_type": "code",
   "execution_count": 1,
   "metadata": {
    "collapsed": true
   },
   "outputs": [],
   "source": [
    "import pymongo, pprint\n",
    "\n",
    "client = pymongo.MongoClient('mongodb://localhost:27017/')\n",
    "\n",
    "db = client.openstreetmap"
   ]
  },
  {
   "cell_type": "markdown",
   "metadata": {},
   "source": [
    "## Data overview"
   ]
  },
  {
   "cell_type": "markdown",
   "metadata": {},
   "source": [
    "### Number of valid items"
   ]
  },
  {
   "cell_type": "code",
   "execution_count": 2,
   "metadata": {},
   "outputs": [
    {
     "name": "stdout",
     "output_type": "stream",
     "text": [
      "Number of valid items: 9432206\n"
     ]
    }
   ],
   "source": [
    "print('Number of valid items: {}'.format(db.elements.count()))"
   ]
  },
  {
   "cell_type": "code",
   "execution_count": 3,
   "metadata": {
    "collapsed": true
   },
   "outputs": [],
   "source": [
    "def number_of_elements(node_type):\n",
    "    count_of_type = db.elements.aggregate([\n",
    "        {'$match': {'type': node_type}},\n",
    "        {'$group': {'_id': None, 'count': {'$sum': 1}}}\n",
    "    ])\n",
    "    \n",
    "    return list(count_of_type)[0]['count']"
   ]
  },
  {
   "cell_type": "markdown",
   "metadata": {},
   "source": [
    "### Number of valid nodes"
   ]
  },
  {
   "cell_type": "code",
   "execution_count": 4,
   "metadata": {},
   "outputs": [
    {
     "name": "stdout",
     "output_type": "stream",
     "text": [
      "Number of valid nodes: 8451459\n"
     ]
    }
   ],
   "source": [
    "print('Number of valid nodes: {}'.format(number_of_elements('node')))"
   ]
  },
  {
   "cell_type": "markdown",
   "metadata": {},
   "source": [
    "### Number of valid ways"
   ]
  },
  {
   "cell_type": "code",
   "execution_count": 5,
   "metadata": {},
   "outputs": [
    {
     "name": "stdout",
     "output_type": "stream",
     "text": [
      "Number of valid ways: 965023\n"
     ]
    }
   ],
   "source": [
    "print('Number of valid ways: {}'.format(number_of_elements('way')))"
   ]
  },
  {
   "cell_type": "markdown",
   "metadata": {},
   "source": [
    "### Number of valid relations"
   ]
  },
  {
   "cell_type": "code",
   "execution_count": 6,
   "metadata": {},
   "outputs": [
    {
     "name": "stdout",
     "output_type": "stream",
     "text": [
      "Number of valid relations: 15724\n"
     ]
    }
   ],
   "source": [
    "print('Number of valid relations: {}'.format(number_of_elements('relation')))"
   ]
  },
  {
   "cell_type": "code",
   "execution_count": 7,
   "metadata": {
    "collapsed": true
   },
   "outputs": [],
   "source": [
    "def number_of_unique_items(by_field):\n",
    "    count_of_items = db.elements.aggregate([\n",
    "        {'$group': {'_id': '${}'.format(by_field), 'count': {'$sum': 1}}},\n",
    "        {'$group': {'_id': None, 'count': {'$sum': 1}}}\n",
    "    ])\n",
    "    \n",
    "    return list(count_of_items)[0]['count']"
   ]
  },
  {
   "cell_type": "markdown",
   "metadata": {},
   "source": [
    "### Number of unique authors"
   ]
  },
  {
   "cell_type": "code",
   "execution_count": 8,
   "metadata": {},
   "outputs": [
    {
     "name": "stdout",
     "output_type": "stream",
     "text": [
      "Number of unique authors: 2913\n"
     ]
    }
   ],
   "source": [
    "print('Number of unique authors: {}'.format(number_of_unique_items('uid')))"
   ]
  },
  {
   "cell_type": "markdown",
   "metadata": {},
   "source": [
    "### The author with the biggest contribution"
   ]
  },
  {
   "cell_type": "code",
   "execution_count": 9,
   "metadata": {},
   "outputs": [
    {
     "name": "stdout",
     "output_type": "stream",
     "text": [
      "The biggest contribution has the user 'JandaM' with id '2169558' - he created '2068505' elements\n"
     ]
    }
   ],
   "source": [
    "author_with_biggest_number_of_elements = db.elements.aggregate([\n",
    "    {'$group': {'_id': '$uid', 'name': {'$first': '$user'}, 'count': {'$sum': 1}}},\n",
    "    {'$sort': {'count': -1}},\n",
    "    {'$limit': 1}\n",
    "])\n",
    "stats = list(author_with_biggest_number_of_elements)[0]\n",
    "print('The biggest contribution has the user \\'{}\\' with id \\'{}\\' - he created \\'{}\\' elements'.format(stats['name'], stats['_id'], stats['count']));"
   ]
  },
  {
   "cell_type": "markdown",
   "metadata": {},
   "source": [
    "### Number of unique changesets"
   ]
  },
  {
   "cell_type": "code",
   "execution_count": 10,
   "metadata": {},
   "outputs": [
    {
     "name": "stdout",
     "output_type": "stream",
     "text": [
      "Number of unique changesets: 67633\n"
     ]
    }
   ],
   "source": [
    "print('Number of unique changesets: {}'.format(number_of_unique_items('changeset')))"
   ]
  },
  {
   "cell_type": "code",
   "execution_count": 11,
   "metadata": {
    "collapsed": true
   },
   "outputs": [],
   "source": [
    "def get_number_of_elements_having_a_tag(tag_name, tag_value):\n",
    "    elements_with_source_survey = db.elements.aggregate([\n",
    "        {'$unwind': \"$tags\"},\n",
    "        {'$match': {\n",
    "            '$and': [\n",
    "                {'tags.key': tag_name},\n",
    "                {'tags.value': tag_value}\n",
    "             ]\n",
    "        }},\n",
    "        {'$group': {'_id': 'id', 'count': {'$sum': 1}}}\n",
    "    ])\n",
    "    \n",
    "    return list(elements_with_source_survey)[0]['count']"
   ]
  },
  {
   "cell_type": "markdown",
   "metadata": {
    "collapsed": true
   },
   "source": [
    "### Number of items that have a source “survey”"
   ]
  },
  {
   "cell_type": "code",
   "execution_count": 12,
   "metadata": {},
   "outputs": [
    {
     "name": "stdout",
     "output_type": "stream",
     "text": [
      "Number of items that have a source \"survey\": 8551\n"
     ]
    }
   ],
   "source": [
    "print('Number of items that have a source \"survey\": {}'.format(get_number_of_elements_having_a_tag('source', 'survey')))"
   ]
  },
  {
   "cell_type": "markdown",
   "metadata": {},
   "source": [
    "### Number of restaurants"
   ]
  },
  {
   "cell_type": "code",
   "execution_count": 13,
   "metadata": {},
   "outputs": [
    {
     "name": "stdout",
     "output_type": "stream",
     "text": [
      "Number of restaurants: 2592\n"
     ]
    }
   ],
   "source": [
    "print('Number of restaurants: {}'.format(get_number_of_elements_having_a_tag('amenity', 'restaurant')))"
   ]
  },
  {
   "cell_type": "markdown",
   "metadata": {},
   "source": [
    "### Number of bakeries"
   ]
  },
  {
   "cell_type": "code",
   "execution_count": 14,
   "metadata": {},
   "outputs": [
    {
     "name": "stdout",
     "output_type": "stream",
     "text": [
      "Number of bakeries: 175\n"
     ]
    }
   ],
   "source": [
    "print('Number of bakeries: {}'.format(get_number_of_elements_having_a_tag('shop', 'bakery')))"
   ]
  }
 ],
 "metadata": {
  "kernelspec": {
   "display_name": "Python 3",
   "language": "python",
   "name": "python3"
  },
  "language_info": {
   "codemirror_mode": {
    "name": "ipython",
    "version": 3
   },
   "file_extension": ".py",
   "mimetype": "text/x-python",
   "name": "python",
   "nbconvert_exporter": "python",
   "pygments_lexer": "ipython3",
   "version": "3.6.0"
  }
 },
 "nbformat": 4,
 "nbformat_minor": 2
}
