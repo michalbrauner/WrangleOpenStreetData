{
 "cells": [
  {
   "cell_type": "markdown",
   "metadata": {},
   "source": [
    "# Analyzing OpenStreetMap data\n",
    "\n",
    "In this document I would like to show you a MongoDB queries I used to analyze OpenStreetMap data."
   ]
  },
  {
   "cell_type": "markdown",
   "metadata": {},
   "source": [
    "## Import pymogno and acessing database"
   ]
  },
  {
   "cell_type": "code",
   "execution_count": 33,
   "metadata": {
    "collapsed": true
   },
   "outputs": [],
   "source": [
    "import pymongo, pprint\n",
    "\n",
    "client = pymongo.MongoClient('mongodb://localhost:27017/')\n",
    "\n",
    "db = client.openstreetmap"
   ]
  },
  {
   "cell_type": "markdown",
   "metadata": {},
   "source": [
    "## Data overview"
   ]
  },
  {
   "cell_type": "markdown",
   "metadata": {},
   "source": [
    "### Number of valid items"
   ]
  },
  {
   "cell_type": "code",
   "execution_count": 34,
   "metadata": {},
   "outputs": [
    {
     "name": "stdout",
     "output_type": "stream",
     "text": [
      "Number of valid items: 52406\n"
     ]
    }
   ],
   "source": [
    "print('Number of valid items: {}'.format(db.elements.count()))"
   ]
  },
  {
   "cell_type": "code",
   "execution_count": 35,
   "metadata": {
    "collapsed": true
   },
   "outputs": [],
   "source": [
    "def number_of_elements(node_type):\n",
    "    count_of_type = db.elements.aggregate([\n",
    "        {'$match': {'type': node_type}},\n",
    "        {'$group': {'_id': None, 'count': {'$sum': 1}}}\n",
    "    ])\n",
    "    \n",
    "    return list(count_of_type)[0]['count']"
   ]
  },
  {
   "cell_type": "markdown",
   "metadata": {},
   "source": [
    "### Number of valid nodes"
   ]
  },
  {
   "cell_type": "code",
   "execution_count": 36,
   "metadata": {},
   "outputs": [
    {
     "name": "stdout",
     "output_type": "stream",
     "text": [
      "Number of valid nodes: 46957\n"
     ]
    }
   ],
   "source": [
    "print('Number of valid nodes: {}'.format(number_of_elements('node')))"
   ]
  },
  {
   "cell_type": "markdown",
   "metadata": {},
   "source": [
    "### Number of valid ways"
   ]
  },
  {
   "cell_type": "code",
   "execution_count": 37,
   "metadata": {},
   "outputs": [
    {
     "name": "stdout",
     "output_type": "stream",
     "text": [
      "Number of valid ways: 5362\n"
     ]
    }
   ],
   "source": [
    "print('Number of valid ways: {}'.format(number_of_elements('way')))"
   ]
  },
  {
   "cell_type": "markdown",
   "metadata": {},
   "source": [
    "### Number of valid relations"
   ]
  },
  {
   "cell_type": "code",
   "execution_count": 38,
   "metadata": {},
   "outputs": [
    {
     "name": "stdout",
     "output_type": "stream",
     "text": [
      "Number of valid relations: 87\n"
     ]
    }
   ],
   "source": [
    "print('Number of valid relations: {}'.format(number_of_elements('relation')))"
   ]
  },
  {
   "cell_type": "code",
   "execution_count": 73,
   "metadata": {},
   "outputs": [],
   "source": [
    "def number_of_unique_items(by_field):\n",
    "    count_of_items = db.elements.aggregate([\n",
    "        {'$group': {'_id': '${}'.format(by_field), 'count': {'$sum': 1}}},\n",
    "        {'$group': {'_id': None, 'count': {'$sum': 1}}}\n",
    "    ])\n",
    "    \n",
    "    return list(count_of_items)[0]['count']"
   ]
  },
  {
   "cell_type": "markdown",
   "metadata": {},
   "source": [
    "### Number of unique authors"
   ]
  },
  {
   "cell_type": "code",
   "execution_count": 74,
   "metadata": {},
   "outputs": [
    {
     "name": "stdout",
     "output_type": "stream",
     "text": [
      "Number of unique authors: 642\n"
     ]
    }
   ],
   "source": [
    "print('Number of unique authors: {}'.format(number_of_unique_items('uid')))"
   ]
  },
  {
   "cell_type": "markdown",
   "metadata": {},
   "source": [
    "### The author with the most contributions"
   ]
  },
  {
   "cell_type": "markdown",
   "metadata": {},
   "source": [
    "### Number of unique changesets"
   ]
  },
  {
   "cell_type": "code",
   "execution_count": 76,
   "metadata": {},
   "outputs": [
    {
     "name": "stdout",
     "output_type": "stream",
     "text": [
      "Number of unique changesets: 12892\n"
     ]
    }
   ],
   "source": [
    "print('Number of unique changesets: {}'.format(number_of_unique_items('changeset')))"
   ]
  },
  {
   "cell_type": "code",
   "execution_count": null,
   "metadata": {
    "collapsed": true
   },
   "outputs": [],
   "source": []
  }
 ],
 "metadata": {
  "kernelspec": {
   "display_name": "Python 3",
   "language": "python",
   "name": "python3"
  },
  "language_info": {
   "codemirror_mode": {
    "name": "ipython",
    "version": 3
   },
   "file_extension": ".py",
   "mimetype": "text/x-python",
   "name": "python",
   "nbconvert_exporter": "python",
   "pygments_lexer": "ipython3",
   "version": "3.6.0"
  }
 },
 "nbformat": 4,
 "nbformat_minor": 2
}
